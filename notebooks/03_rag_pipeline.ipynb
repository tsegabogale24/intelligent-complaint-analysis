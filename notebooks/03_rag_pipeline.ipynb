{
 "cells": [
  {
   "cell_type": "code",
   "execution_count": 1,
   "id": "a5cca8f0",
   "metadata": {},
   "outputs": [],
   "source": [
    "import os\n",
    "import sys\n",
    "import pickle\n",
    "sys.path.append('..')\n",
    "from src import rag_pipeline"
   ]
  },
  {
   "cell_type": "code",
   "execution_count": 2,
   "id": "235c7b62",
   "metadata": {},
   "outputs": [],
   "source": [
    "import os\n",
    "from dotenv import load_dotenv\n",
    "load_dotenv()\n",
    "openai_key = os.getenv(\"OPENAI_API_KEY\")"
   ]
  },
  {
   "cell_type": "code",
   "execution_count": 3,
   "id": "40f204e8",
   "metadata": {},
   "outputs": [
    {
     "name": "stdout",
     "output_type": "stream",
     "text": [
      "Common complaint topics include:\n",
      "\n",
      "1. **Dispute Handling**: Customers frequently express dissatisfaction with how their disputes are managed, citing unprofessionalism and a lack of accountability from company representatives.\n",
      "\n",
      "2. **Communication Issues**: There are complaints about conflicting information provided by customer service representatives, leading to confusion and frustration regarding dispute processes and timelines.\n",
      "\n",
      "3. **Product Misrepresentation**: Customers report issues with receiving incorrect products or services that were not as advertised, leading to disputes over charges.\n",
      "\n",
      "4. **Language Barriers**: Some customers have noted difficulties in communication due to representatives' accents or language proficiency, which they feel affects the quality of service.\n",
      "\n",
      "5. **Failure to Resolve Issues**: Many complaints highlight a lack of resolution despite multiple attempts to address the issues, with some customers feeling compelled to escalate their cases due to unresolved disputes.\n"
     ]
    }
   ],
   "source": [
    "from src.rag_pipeline import RAGPipeline\n",
    "import openai\n",
    "rag = RAGPipeline(\n",
    "    \"vector_store/faiss.index\",\n",
    "    \"vector_store/metadata.pkl\",\n",
    "    generator_backend=\"openai\",   # or \"hf\"\n",
    "    openai_model=\"gpt-4o-mini\"    # tweak if you want gpt‑4o, gpt‑3.5‑turbo, etc.\n",
    ")\n",
    "\n",
    "answer, sources = rag.run(\"Summarize common complaint topics\")\n",
    "print(answer)"
   ]
  },
  {
   "cell_type": "code",
   "execution_count": 4,
   "id": "719c41b4",
   "metadata": {},
   "outputs": [
    {
     "name": "stdout",
     "output_type": "stream",
     "text": [
      "Evaluation saved to: evaluation.md\n"
     ]
    }
   ],
   "source": [
    "questions = [\n",
    "    \"What are common complaints related to mortgage servicing?\",\n",
    "    \"Are there issues with loan application delays?\",\n",
    "    \"What problems do customers face with account closures?\",\n",
    "    \"What types of fees are most commonly disputed by credit card users?\",\n",
    "    \"How often do customers report being charged for services they did not authorize?\",\n",
    "    \"What are the frequent causes of delays in loan disbursement?\",\n",
    "    \"Do customers complain about unhelpful or rude customer service agents\",\n",
    "    \"How do customers describe their experience when trying to resolve disputes with financial institutions?\",\n",
    "    \"What complaints are common about unauthorized account closures?\",\n",
    "    \"Are there recurring issues with updating account information online or via mobile apps?\"\n",
    "\n",
    "]\n",
    "\n",
    "from src.rag_pipeline import create_evaluation_table\n",
    "\n",
    "# Generate and save an evaluation table as a Markdown file\n",
    "eval_path = create_evaluation_table(questions, rag, k=5, out_path=\"evaluation.md\")\n",
    "print(f\"Evaluation saved to: {eval_path}\")"
   ]
  }
 ],
 "metadata": {
  "kernelspec": {
   "display_name": ".venv",
   "language": "python",
   "name": "python3"
  },
  "language_info": {
   "codemirror_mode": {
    "name": "ipython",
    "version": 3
   },
   "file_extension": ".py",
   "mimetype": "text/x-python",
   "name": "python",
   "nbconvert_exporter": "python",
   "pygments_lexer": "ipython3",
   "version": "3.13.3"
  }
 },
 "nbformat": 4,
 "nbformat_minor": 5
}
