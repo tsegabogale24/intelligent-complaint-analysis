{
 "cells": [
  {
   "cell_type": "code",
   "execution_count": 1,
   "metadata": {},
   "outputs": [],
   "source": [
    "import os\n",
    "import sys\n",
    "import pickle\n",
    "sys.path.append('..')\n",
    "from src import Text_Chunking_Embedding_and_Vector_Store_Indexing\n",
    "\n",
    "\n"
   ]
  },
  {
   "cell_type": "code",
   "execution_count": 2,
   "metadata": {},
   "outputs": [],
   "source": [
    "from src.Text_Chunking_Embedding_and_Vector_Store_Indexing import (\n",
    "    pipeline,\n",
    "    chunk_documents,\n",
    "    embed_documents,\n",
    "    build_faiss_index,\n",
    "    persist_vector_store,\n",
    ")"
   ]
  },
  {
   "cell_type": "code",
   "execution_count": 3,
   "metadata": {},
   "outputs": [
    {
     "name": "stdout",
     "output_type": "stream",
     "text": [
      "[+] Loading cleaned data from: ../data/processed/filtered_complaints.csv\n",
      "[!] Removed 389 outlier narratives by length filter\n"
     ]
    },
    {
     "name": "stderr",
     "output_type": "stream",
     "text": [
      "Chunking: 100%|██████████| 81775/81775 [00:13<00:00, 6092.84it/s]\n"
     ]
    },
    {
     "name": "stdout",
     "output_type": "stream",
     "text": [
      "[+] Produced 87,210 chunks from 81,775 narratives\n"
     ]
    },
    {
     "data": {
      "application/vnd.jupyter.widget-view+json": {
       "model_id": "21f838ec7fba427e88dfb4cfee4c61d7",
       "version_major": 2,
       "version_minor": 0
      },
      "text/plain": [
       "Batches:   0%|          | 0/1363 [00:00<?, ?it/s]"
      ]
     },
     "metadata": {},
     "output_type": "display_data"
    },
    {
     "name": "stdout",
     "output_type": "stream",
     "text": [
      "[✓] Vector store saved to C:\\Users\\tsega\\Desktop\\intelligent-complaint-analysis\\notebooks\\vector_store\n"
     ]
    }
   ],
   "source": [
    "index =pipeline(\n",
    "    csv_path=\"../data/processed/filtered_complaints.csv\",\n",
    "    chunk_size=256,\n",
    "    chunk_overlap=64,\n",
    "    save_dir=\"vector_store\"\n",
    ")"
   ]
  },
  {
   "cell_type": "code",
   "execution_count": 4,
   "metadata": {},
   "outputs": [
    {
     "name": "stdout",
     "output_type": "stream",
     "text": [
      "0.6026695 {'text': 'experience hardship able make payments charge overly interest fees', 'complaint_id': 12032714, 'product': 'Credit card', 'chunk_index': 0}\n",
      "0.58037794 {'text': 'capital one charging much interests late fee makes impossible pay whats owe every time im making payment im getting charged late fee interest fee hidden fees', 'complaint_id': 11272029, 'product': 'Credit card', 'chunk_index': 0}\n",
      "0.5724783 {'text': 'billed unknown charges added late fees interest fraudulent charges', 'complaint_id': 7543080, 'product': 'Credit card', 'chunk_index': 0}\n",
      "0.5665556 {'text': 'charged late fees paper statement fees interest without knowledge set amount needed pay loan monthly never missed imposed paper statement charge changed amount due leading late fees paper statement charges interest reversed late fees paper billing fees interest fees associated wrong refuse remove interest really isnt much concerning theyre taking advantage consumers', 'complaint_id': 10663959, 'product': 'Credit card', 'chunk_index': 0}\n",
      "0.5663291 {'text': 'one opened personal loan  name informed said since still access account personal loan  went make complaint brushed told pay funds back even though knowledge concern open accounts', 'complaint_id': 11545370, 'product': 'Credit card', 'chunk_index': 0}\n"
     ]
    }
   ],
   "source": [
    "import faiss, numpy as np\n",
    "from sentence_transformers import SentenceTransformer\n",
    "\n",
    "query = \"hidden fees on personal loans\"\n",
    "model = SentenceTransformer(\"sentence-transformers/all-MiniLM-L6-v2\")\n",
    "q_vec = model.encode([query], normalize_embeddings=True).astype(\"float32\")\n",
    "\n",
    "D, I = index.search(q_vec, k=5)      # top‑5 chunks\n",
    "with open(\"vector_store/metadata.pkl\", \"rb\") as f:\n",
    "    meta = pickle.load(f)\n",
    "\n",
    "for score, idx in zip(D[0], I[0]):\n",
    "    print(score, meta[idx])\n"
   ]
  }
 ],
 "metadata": {
  "kernelspec": {
   "display_name": ".venv",
   "language": "python",
   "name": "python3"
  },
  "language_info": {
   "codemirror_mode": {
    "name": "ipython",
    "version": 3
   },
   "file_extension": ".py",
   "mimetype": "text/x-python",
   "name": "python",
   "nbconvert_exporter": "python",
   "pygments_lexer": "ipython3",
   "version": "3.13.3"
  }
 },
 "nbformat": 4,
 "nbformat_minor": 2
}
